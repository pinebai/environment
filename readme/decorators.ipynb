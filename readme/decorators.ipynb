{
 "cells": [
  {
   "cell_type": "code",
   "execution_count": 16,
   "metadata": {
    "collapsed": false
   },
   "outputs": [
    {
     "name": "stdout",
     "output_type": "stream",
     "text": [
      "23\n"
     ]
    }
   ],
   "source": [
    "def wrapper(func):\n",
    "    def inner(*args, **kwargs):\n",
    "        rid=kwargs['rid']\n",
    "        x=rid+1\n",
    "        return func(*args,rid=x)\n",
    "    return inner\n",
    "\n",
    "\n",
    "@wrapper\n",
    "def prid(z, a=10,rid=1010):\n",
    "    print rid\n",
    "    \n",
    "prid1=wrapper(prid)\n",
    "\n",
    "prid1(1,rid=21)"
   ]
  },
  {
   "cell_type": "code",
   "execution_count": 26,
   "metadata": {
    "collapsed": false
   },
   "outputs": [
    {
     "name": "stdout",
     "output_type": "stream",
     "text": [
      "3 2 12345\n"
     ]
    }
   ],
   "source": [
    "def wrapper(func):\n",
    "    def inner(z,*args, **kwargs):\n",
    "        rid=z\n",
    "        x=rid+1\n",
    "        kwargs['context']=12345\n",
    "        return func(x,*args,**kwargs)\n",
    "    return inner\n",
    "\n",
    "\n",
    "@wrapper\n",
    "def prid(z, x, a=10, dummy=1010,**kwargs):\n",
    "    print z,x, kwargs['context']\n",
    "    \n",
    "prid1=wrapper(prid)\n",
    "\n",
    "prid1(1,2,dummy=21)"
   ]
  },
  {
   "cell_type": "code",
   "execution_count": 27,
   "metadata": {
    "collapsed": true
   },
   "outputs": [],
   "source": [
    "x=(1,2,{4,3})"
   ]
  },
  {
   "cell_type": "code",
   "execution_count": 28,
   "metadata": {
    "collapsed": false
   },
   "outputs": [
    {
     "data": {
      "text/plain": [
       "1"
      ]
     },
     "execution_count": 28,
     "metadata": {},
     "output_type": "execute_result"
    }
   ],
   "source": [
    "x[0]"
   ]
  },
  {
   "cell_type": "code",
   "execution_count": null,
   "metadata": {
    "collapsed": true
   },
   "outputs": [],
   "source": []
  }
 ],
 "metadata": {
  "kernelspec": {
   "display_name": "Python 2",
   "language": "python",
   "name": "python2"
  },
  "language_info": {
   "codemirror_mode": {
    "name": "ipython",
    "version": 2
   },
   "file_extension": ".py",
   "mimetype": "text/x-python",
   "name": "python",
   "nbconvert_exporter": "python",
   "pygments_lexer": "ipython2",
   "version": "2.7.9"
  }
 },
 "nbformat": 4,
 "nbformat_minor": 0
}
